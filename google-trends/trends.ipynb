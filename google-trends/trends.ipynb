{
  "nbformat": 4,
  "nbformat_minor": 0,
  "metadata": {
    "kernelspec": {
      "display_name": "Python 3",
      "language": "python",
      "name": "python3"
    },
    "language_info": {
      "codemirror_mode": {
        "name": "ipython",
        "version": 3
      },
      "file_extension": ".py",
      "mimetype": "text/x-python",
      "name": "python",
      "nbconvert_exporter": "python",
      "pygments_lexer": "ipython3",
      "version": "3.8.1"
    },
    "latex_envs": {
      "LaTeX_envs_menu_present": true,
      "autoclose": false,
      "autocomplete": true,
      "bibliofile": "biblio.bib",
      "cite_by": "apalike",
      "current_citInitial": 1,
      "eqLabelWithNumbers": true,
      "eqNumInitial": 1,
      "hotkeys": {
        "equation": "Ctrl-E",
        "itemize": "Ctrl-I"
      },
      "labels_anchors": false,
      "latex_user_defs": false,
      "report_style_numbering": false,
      "user_envs_cfg": false
    },
    "toc": {
      "base_numbering": 1,
      "nav_menu": {},
      "number_sections": true,
      "sideBar": true,
      "skip_h1_title": false,
      "title_cell": "Table of Contents",
      "title_sidebar": "Contents",
      "toc_cell": false,
      "toc_position": {},
      "toc_section_display": true,
      "toc_window_display": false
    },
    "colab": {
      "name": "Trends.ipynb",
      "provenance": [],
      "collapsed_sections": []
    }
  },
  "cells": [
    {
      "cell_type": "markdown",
      "metadata": {
        "id": "hCFyUZoQmgUX"
      },
      "source": [
        "## Datapane Tutorial - Google Trends Analysis\n",
        "\n",
        "---\n",
        "\n",
        "This is part of a series of tutorials to help you learn how to use Datapane.\n",
        "\n",
        "Before getting started, you will need your API token, which you can find on your [settings page](https://datapane.com/settings). If you are on a private Datapane instance, you will find it in `/settings` on your instance domain (i.e., https://[your-instance].datapane.net/settings).\n",
        "\n",
        "Once you have you token, add it to the form field in the cell below to login to Datapane.\n",
        "\n",
        "If you are using Datapane Community, set the `datapane_server_url` as `https://datapane.com`. Alternatively, if you are using a Teams instance, enter the URL of your instance (i.e. https://[your-instance].datapane.net).\n"
      ]
    },
    {
      "cell_type": "code",
      "metadata": {
        "id": "VG2YMu0Hl_Fs",
        "cellView": "form"
      },
      "source": [
        "datapane_api_token = \"\" #@param {type:\"string\"}\n",
        "datapane_server_url = \"https://datapane.com\" #@param {type:\"string\"}"
      ],
      "execution_count": null,
      "outputs": []
    },
    {
      "cell_type": "code",
      "metadata": {
        "id": "W-LLtaYfnZ2z"
      },
      "source": [
        "!pip3 install --quiet datapane pytrends\n",
        "\n",
        "import datapane as dp\n",
        "dp.login(token=datapane_api_token, server=datapane_server_url) # Make sure you've set your API token above!"
      ],
      "execution_count": null,
      "outputs": []
    },
    {
      "cell_type": "markdown",
      "metadata": {
        "id": "AJ6-CBE4Okkd"
      },
      "source": [
        "# Import libraries and set parameters\n",
        "\n",
        "Although we can generate our Datapane report by manually running this notebook on Colab or our local machine, in the future we may want to deploy it to Datapane Cloud as an app which stakeholders can run with parameters.\n",
        "\n",
        "To enable this, we are using `dp.Params`, which allows us to access parameters when this notebook is run as a Datapane App (where Datapane will use our parameters to generate a form for end-users).\n",
        "\n",
        "Params is a Python dictionary which is injected at runtime and will be empty if we are running it elsewhere, so we are choosing some defaults.\n"
      ]
    },
    {
      "cell_type": "code",
      "metadata": {
        "ExecuteTime": {
          "end_time": "2020-08-19T15:41:33.391928Z",
          "start_time": "2020-08-19T15:41:26.540845Z"
        },
        "id": "5ir0zSYnOM9P"
      },
      "source": [
        "import pandas as pd\n",
        "from pytrends.request import TrendReq\n",
        "import altair as alt\n",
        "import datapane as dp\n",
        "pytrends = TrendReq(tz=360)\n",
        "\n",
        "# Choose your query!\n",
        "keyword = dp.Params.get('keyword', \"python\")\n",
        "start_date = dp.Params.get('timeframe', '3-m')\n",
        "pytrends.build_payload([keyword], cat=0, timeframe=f'today {start_date}', geo='', gprop='')\n",
        "top_queries = pytrends.related_queries()[keyword]['top']\n",
        "related = top_queries.style.bar(subset=['value'], align='mid', color=['#d65f5f', '#5fba7d'])"
      ],
      "execution_count": null,
      "outputs": []
    },
    {
      "cell_type": "markdown",
      "metadata": {
        "id": "3c6x3mNROw1m"
      },
      "source": [
        "## Plotting our trends"
      ]
    },
    {
      "cell_type": "code",
      "metadata": {
        "ExecuteTime": {
          "end_time": "2020-08-19T15:41:42.614957Z",
          "start_time": "2020-08-19T15:41:42.347491Z"
        },
        "id": "z9LAfPxSOM9R"
      },
      "source": [
        "import altair as alt\n",
        "alt.themes.enable('quartz')\n",
        "fig = alt.Chart(top_queries).mark_bar().encode(x='query', y='value').interactive()\n",
        "fig"
      ],
      "execution_count": null,
      "outputs": []
    },
    {
      "cell_type": "markdown",
      "metadata": {
        "id": "FVxa7woZOM9R"
      },
      "source": [
        "## Interest over Time"
      ]
    },
    {
      "cell_type": "code",
      "metadata": {
        "ExecuteTime": {
          "end_time": "2020-08-19T15:41:48.156846Z",
          "start_time": "2020-08-19T15:41:47.065537Z"
        },
        "id": "cYDFg_l5OM9R"
      },
      "source": [
        "r_o_t = pytrends.interest_over_time().reset_index()\n",
        "r_o_t.rename(columns={keyword : 'search_volume'}, inplace=True)\n",
        "r_o_t_plot = alt.Chart(r_o_t).encode(x='date', y='search_volume').mark_area(line=True).interactive()\n",
        "r_o_t_plot"
      ],
      "execution_count": null,
      "outputs": []
    },
    {
      "cell_type": "markdown",
      "metadata": {
        "id": "r7c13j72OM9S"
      },
      "source": [
        "## Geographical Interest"
      ]
    },
    {
      "cell_type": "code",
      "metadata": {
        "ExecuteTime": {
          "end_time": "2020-08-19T18:43:15.375646Z",
          "start_time": "2020-08-19T18:43:09.510251Z"
        },
        "id": "Pp-oF3-UOM9S"
      },
      "source": [
        "regions = pytrends.interest_by_region(resolution='COUNTRY', inc_geo_code=True)\n",
        "regions.rename(columns={keyword : 'search_volume'}, inplace=True)\n",
        "regions.reset_index()\n",
        "\n",
        "subset = regions.reset_index().sort_values(by='search_volume', ascending=False)[:20]\n",
        "bar = alt.Chart(subset).encode(x='geoName', y='search_volume').mark_bar()\n",
        "bar"
      ],
      "execution_count": null,
      "outputs": []
    },
    {
      "cell_type": "code",
      "metadata": {
        "ExecuteTime": {
          "end_time": "2020-08-19T19:38:08.804038Z",
          "start_time": "2020-08-19T19:38:01.835111Z"
        },
        "id": "AG4hvuCEOM9T"
      },
      "source": [
        "from datetime import date\n",
        "\n",
        "heading = f\"\"\"<div style=\"display:flex;justify-content:center;background: rgb(229, 231, 235);flex-direction: column;text-align: center;margin-bottom: ;\">\n",
        "  <h1 style=\"font-size: 2em;\">SEO forecast analysis of <code style=\"color: rgb(129, 140, 248); font-size:1.2em;\">{keyword}</code></h1>\n",
        "</div>\"\"\"\n",
        "\n",
        "dp.Report(\n",
        "    dp.Page(blocks=[\n",
        "        dp.HTML(heading),\n",
        "\"This data was pulled from the Google Trends API for your search term. This report is refreshed _daily_, but please reach out if you need to change the cadence.\",\n",
        "\"## Search volume\",\n",
        "        dp.Plot(r_o_t_plot, label='Observed data')\n",
        "    ], label='Interest over time'),\n",
        "    dp.Page(blocks=[\n",
        "        \"These are queries which are related to your keyword\",\n",
        "        fig,\n",
        "    ], label='Related queries'),\n",
        "    dp.Page(blocks=[\n",
        "        \"This data was pulled from the Google Trends API\",\n",
        "        dp.DataTable(r_o_t, caption='Time series data')\n",
        "    ], label='Input Dataset')\n",
        ").publish(name=\"Trends Report\")\n"
      ],
      "execution_count": null,
      "outputs": []
    },
    {
      "cell_type": "code",
      "metadata": {
        "id": "D2z8BdYiOM9T"
      },
      "source": [
        ""
      ],
      "execution_count": null,
      "outputs": []
    },
    {
      "cell_type": "code",
      "metadata": {
        "id": "71NzVwXEOM9U"
      },
      "source": [
        ""
      ],
      "execution_count": null,
      "outputs": []
    },
    {
      "cell_type": "code",
      "metadata": {
        "id": "MbrPsvIyOM9U"
      },
      "source": [
        ""
      ],
      "execution_count": null,
      "outputs": []
    },
    {
      "cell_type": "code",
      "metadata": {
        "id": "ocaV9cxbOM9U"
      },
      "source": [
        ""
      ],
      "execution_count": null,
      "outputs": []
    },
    {
      "cell_type": "code",
      "metadata": {
        "id": "CqdP4nFaOM9U"
      },
      "source": [
        ""
      ],
      "execution_count": null,
      "outputs": []
    }
  ]
}