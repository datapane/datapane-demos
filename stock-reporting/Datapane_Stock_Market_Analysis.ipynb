{
 "cells": [
  {
   "cell_type": "markdown",
   "metadata": {
    "id": "hCFyUZoQmgUX"
   },
   "source": [
    "## Datapane Tutorial - Stock Analysis\n",
    "\n",
    "---\n",
    "\n",
    "This is part of a series of tutorials to help you learn how to use Datapane, and was built by _Kaan Şimşek_.\n",
    "\n",
    "Before getting started, you will need your API token, which you can find on your [settings page](https://datapane.com/settings). If you are on a private Datapane instance, you will find it in `/settings` on your instance domain (i.e., https://[your-instance].datapane.net/settings).\n",
    "\n",
    "Once you have you token, add it to the form field in the cell below to login to Datapane.\n",
    "\n",
    "If you are using Datapane Community, set the `datapane_server_url` as `https://datapane.com`. Alternatively, if you are using a Teams instance, enter the URL of your instance (i.e. https://[your-instance].datapane.net).\n"
   ]
  },
  {
   "cell_type": "code",
   "execution_count": null,
   "metadata": {
    "cellView": "form",
    "id": "VG2YMu0Hl_Fs"
   },
   "outputs": [],
   "source": [
    "datapane_api_token = \"\" #@param {type:\"string\"}\n",
    "datapane_server_url = \"https://datapane.com\" #@param {type:\"string\"}"
   ]
  },
  {
   "cell_type": "code",
   "execution_count": null,
   "metadata": {
    "id": "W-LLtaYfnZ2z"
   },
   "outputs": [],
   "source": [
    "!pip3 install --quiet datapane \n",
    "\n",
    "import datapane as dp\n",
    "dp.login(token=datapane_api_token, server=datapane_server_url) # Make sure you've set your API token above!"
   ]
  },
  {
   "cell_type": "markdown",
   "metadata": {
    "id": "8En7jTBxBmjz"
   },
   "source": [
    "# Import libraries and pull data"
   ]
  },
  {
   "cell_type": "code",
   "execution_count": null,
   "metadata": {
    "ExecuteTime": {
     "end_time": "2020-10-09T18:30:35.197753Z",
     "start_time": "2020-10-09T18:30:30.030877Z"
    },
    "id": "GIvL82ibpR1O"
   },
   "outputs": [],
   "source": [
    "import pandas as pd\n",
    "import numpy as np\n",
    "import plotly.figure_factory as ff\n",
    "import plotly.offline as py\n",
    "import plotly.graph_objs as go\n",
    "import plotly.express as px\n",
    "import pandas_datareader.data as web\n",
    "import datetime\n",
    "\n",
    "import plotly.io as pio\n",
    "pio.templates.default = \"ggplot2\"\n",
    "\n",
    "start = datetime.datetime(2019, 8, 1)\n",
    "end = datetime.datetime.now()\n",
    "\n",
    "zm = web.DataReader(\"ZM\", 'yahoo', start, end).reset_index()\n",
    "nflx = web.DataReader(\"NFLX\", 'yahoo', start, end).reset_index()\n"
   ]
  },
  {
   "cell_type": "markdown",
   "metadata": {
    "id": "fuDiv352kLTZ"
   },
   "source": [
    "# Building Plotly visualizations\n",
    "\n",
    "First, let's create our plots."
   ]
  },
  {
   "cell_type": "code",
   "execution_count": null,
   "metadata": {
    "ExecuteTime": {
     "end_time": "2020-10-09T18:30:35.228612Z",
     "start_time": "2020-10-09T18:30:35.199421Z"
    },
    "id": "WLcoJy9upR1R"
   },
   "outputs": [],
   "source": [
    "trace0 = go.Scatter(x=nflx.Date, y=nflx.Close, name='nflx')\n",
    "fig0 = go.Figure([trace0])\n",
    "fig0.update_layout(\n",
    "    title={\n",
    "        'text': \"Netflix Stock Price\",\n",
    "        'x':0.5,\n",
    "        'xanchor': 'center'})\n",
    "fig0.show()"
   ]
  },
  {
   "cell_type": "code",
   "execution_count": null,
   "metadata": {
    "ExecuteTime": {
     "end_time": "2020-10-09T18:30:35.280168Z",
     "start_time": "2020-10-09T18:30:35.230745Z"
    },
    "id": "RnG0R6xrpR1U"
   },
   "outputs": [],
   "source": [
    "nflx['10-day MA'] = nflx['Close'].rolling(window=10).mean()\n",
    "nflx['20-day MA'] = nflx['Close'].rolling(window=20).mean()\n",
    "nflx['50-day MA'] = nflx['Close'].rolling(window=50).mean()\n",
    "\n",
    "trace0 = go.Scatter(x=nflx.Date, y=nflx.Close, name='NFLX')\n",
    "trace1 = go.Scatter(x=nflx.Date, y=nflx['10-day MA'], name='10-day MA')\n",
    "trace2 = go.Scatter(x=nflx.Date, y=nflx['20-day MA'], name='20-day MA')\n",
    "fig1 = go.Figure([trace0, trace1, trace2])\n",
    "fig1.update_layout(\n",
    "    title={\n",
    "        'text': \"Netflix Stock Price\",\n",
    "        'x':0.5,\n",
    "        'xanchor': 'center'})\n",
    "fig1.show()"
   ]
  },
  {
   "cell_type": "code",
   "execution_count": null,
   "metadata": {
    "ExecuteTime": {
     "end_time": "2020-10-09T18:30:35.310945Z",
     "start_time": "2020-10-09T18:30:35.281795Z"
    },
    "id": "aDqA5IbBpR1W"
   },
   "outputs": [],
   "source": [
    "fig2 = go.Figure(go.Candlestick(x=nflx.Date, open=nflx.Open, high=nflx.High, low=nflx.Low, close=nflx.Close))\n",
    "fig2.update_layout(\n",
    "    title={\n",
    "        'text': \"Netflix Stock Price (Candle Stick)\",\n",
    "        'x':0.5,\n",
    "        'xanchor': 'center'})\n",
    "fig2.show()"
   ]
  },
  {
   "cell_type": "code",
   "execution_count": null,
   "metadata": {
    "ExecuteTime": {
     "end_time": "2020-10-09T18:30:35.397895Z",
     "start_time": "2020-10-09T18:30:35.312034Z"
    },
    "id": "fdsmipl3pR1Y",
    "scrolled": false
   },
   "outputs": [],
   "source": [
    "nflx['Daily return (%)'] = round(nflx['Close'].pct_change()*100, 2)\n",
    "\n",
    "fig3 = px.bar(nflx, x=\"Date\", y=\"Daily return (%)\")\n",
    "fig3.update_layout(\n",
    "    title={\n",
    "        'text': \"Netflix Stock Daily Return\",\n",
    "        'x':0.5,\n",
    "        'xanchor': 'center'})\n",
    "fig3.show()"
   ]
  },
  {
   "cell_type": "code",
   "execution_count": null,
   "metadata": {
    "ExecuteTime": {
     "end_time": "2020-10-09T18:30:35.451108Z",
     "start_time": "2020-10-09T18:30:35.399836Z"
    },
    "id": "OqDeOdOTpR1c"
   },
   "outputs": [],
   "source": [
    "trace0 = go.Scatter(x=nflx.Date, y=nflx.Close, name='NFLX', line=dict(color='lime'))\n",
    "trace1 = go.Scatter(x=zm.Date, y=zm.Close, name='ZM', line=dict(color='red'))\n",
    "\n",
    "fig4 = go.Figure([trace0, trace1])\n",
    "fig4.update_layout(dict(\n",
    "    title=dict({\n",
    "        'text': \"Netflix vs Zoom Stock Price\",\n",
    "        'x':0.5,\n",
    "        'xanchor': 'center'}),\n",
    "    xaxis=dict(\n",
    "        rangeselector=dict(\n",
    "            buttons=list([\n",
    "                dict(count=1,\n",
    "                     label='1m',\n",
    "                     step='month',\n",
    "                     stepmode='backward'),\n",
    "                dict(count=3,\n",
    "                     label='3m',\n",
    "                     step='month',\n",
    "                     stepmode='backward'),\n",
    "                dict(count=6,\n",
    "                     label='6m',\n",
    "                     step='month',\n",
    "                     stepmode='backward'),\n",
    "                dict(count=12,\n",
    "                     label='12m',\n",
    "                     step='month',\n",
    "                     stepmode='backward')\n",
    "            ])\n",
    "        ),\n",
    "        rangeslider=dict(\n",
    "            visible = True\n",
    "        ),\n",
    "        type='date')))\n",
    "fig4.show()"
   ]
  },
  {
   "cell_type": "code",
   "execution_count": null,
   "metadata": {
    "ExecuteTime": {
     "end_time": "2020-10-09T18:30:35.582554Z",
     "start_time": "2020-10-09T18:30:35.452413Z"
    },
    "id": "aYWtt8GwpR1e"
   },
   "outputs": [],
   "source": [
    "trace0 = go.Scatterpolar(\n",
    "      r = [nflx['Close'].mean(),nflx['Open'].min(), nflx['Low'].min(),nflx['High'].max()],\n",
    "      theta = ['Close','Open','Low','High'], line =  dict(\n",
    "            color = 'lime'), name='NFLX',\n",
    "      fill = 'toself')\n",
    "\n",
    "trace1 = go.Scatterpolar(\n",
    "      r = [zm['Close'].mean(),zm['Open'].min(), zm['Low'].min(),zm['High'].max()],\n",
    "      theta = ['Close','Open','Low','High'], line =  dict(\n",
    "            color = 'red'), name='ZM',\n",
    "      fill = 'toself'\n",
    "    )\n",
    "\n",
    "fig5 = go.Figure([trace0,trace1])\n",
    "fig5.update_layout(go.Layout(\n",
    "      polar = dict(\n",
    "        radialaxis = dict(\n",
    "          visible = True)),\n",
    "            title=dict({\n",
    "        'text': \"Netflix vs Zoom Stock Price (Radar Chart)\",\n",
    "        'x':0.5,\n",
    "        'xanchor': 'center'})))\n",
    "fig5.show()"
   ]
  },
  {
   "cell_type": "code",
   "execution_count": null,
   "metadata": {
    "ExecuteTime": {
     "end_time": "2020-10-09T18:30:38.296159Z",
     "start_time": "2020-10-09T18:30:35.584812Z"
    },
    "id": "ISxQ4q-0pR1h",
    "scrolled": false
   },
   "outputs": [],
   "source": [
    "df = web.DataReader(['BABA', 'FB', 'AAPL', 'SPOT'], 'yahoo', start, end)['Close']\n",
    "\n",
    "trace0 = go.Box(y=df.BABA, name='BABA', line=dict(color='blue'))\n",
    "trace1 = go.Box(y=df.FB, name='FB', line=dict(color='red'))\n",
    "trace2 = go.Box(y=df.AAPL, name='AAPL', line=dict(color='green'))\n",
    "trace3 = go.Box(y=df.SPOT, name='SPOT', line=dict(color='purple'))\n",
    "\n",
    "fig6 = go.Figure([trace0, trace1, trace2, trace3])\n",
    "fig6.update_layout(\n",
    "    title={\n",
    "        'text': \"Stock Prices\",\n",
    "        'x':0.5,\n",
    "        'xanchor': 'center'})\n",
    "fig6.show()"
   ]
  },
  {
   "cell_type": "code",
   "execution_count": null,
   "metadata": {
    "ExecuteTime": {
     "end_time": "2020-10-09T18:30:38.592100Z",
     "start_time": "2020-10-09T18:30:38.427089Z"
    },
    "id": "ftY95ecspR1l"
   },
   "outputs": [],
   "source": [
    "nflx = nflx[['Open','Close','Volume']]\n",
    "nflx[\"index\"] = np.arange(len(nflx))\n",
    "\n",
    "fig7 = go.Figure(ff.create_scatterplotmatrix(nflx, diag='box', index='index',size=3,\n",
    "                               height=600, width=1150, colormap='RdBu',\n",
    "                                   title={\n",
    "                                    'text': \"Netflix Stock Price (Scatterplot Matrix)\",\n",
    "                                    'x':0.5,\n",
    "                                    'xanchor': 'center'}))\n",
    "fig7.show()"
   ]
  },
  {
   "cell_type": "markdown",
   "metadata": {
    "id": "Wo1EgfkFkLTf"
   },
   "source": [
    "# Building a Datapane report\n",
    "\n",
    "Now that we have a series of plots created using Plotly, we can create a report using Datapane. \n",
    "\n",
    "In addition to the visualizations, this report includes Datapane's `BigNumber` component to display today's stock prices, and our `DataTable` component to allow our viewers to filter, explore, and download the data themselves.\n",
    "\n",
    "Although we could create a linear list of all blocks (similar to how they are displayed in this notebook), we can build a more powerful and accessible report by using Datapane's [layout components](https://docs.datapane.com/reports/blocks/layout-pages-and-selects). \n",
    "\n",
    "From these components, we are using `Group` to place the `BigNumber` blocks in two columns, have used the `Page` block to add multiple pages to our report, and are using the `Select` block to create tabs where users can choose their dataset. This results in a beautiful, interactive document which we can publish and share.\n"
   ]
  },
  {
   "cell_type": "code",
   "execution_count": null,
   "metadata": {
    "id": "ZiKkrwbMqd4j"
   },
   "outputs": [],
   "source": [
    "netflix_today = nflx.iloc[-1] \n",
    "zm_today = zm.iloc[-1]\n",
    "\n",
    "dp.Report(\n",
    "    dp.Page(\n",
    "        title='Dashboard',\n",
    "        blocks=[\n",
    "            dp.Group(\n",
    "                dp.BigNumber(\n",
    "                    heading=\"Netflix Day Performance\",\n",
    "                    value=\"${:,.2f}\".format(netflix_today.Close),\n",
    "                    prev_value=\"${:,.2f}\".format(netflix_today.Open),\n",
    "                ), \n",
    "                dp.BigNumber(\n",
    "                    heading=\"Zoom Day Performance\",\n",
    "                    value=\"${:,.2f}\".format(zm_today.Close),\n",
    "                    prev_value=\"${:,.2f}\".format(zm_today.Open),\n",
    "                ),        \n",
    "                columns=2 \n",
    "            ),\n",
    "            dp.Group(\n",
    "                fig0, fig1, fig2, fig3, fig4, fig5,\n",
    "                columns=2, \n",
    "            ),\n",
    "            fig6, fig7\n",
    "      ]),\n",
    "      dp.Page(title='Datasets', blocks=[\n",
    "          \"_These datasets are pulled live when the report is created_.\",                  \n",
    "          dp.Select(\n",
    "              dp.DataTable(nflx, label='Netflix'), \n",
    "              dp.DataTable(zm, label='Zoom'), \n",
    "              dp.DataTable(df, label='Comparisons')\n",
    "          )\n",
    "      ])\n",
    ").publish(name='Stock Market Report', open=True)"
   ]
  },
  {
   "cell_type": "code",
   "execution_count": null,
   "metadata": {
    "id": "yvUyEJ7hPvpz"
   },
   "outputs": [],
   "source": []
  }
 ],
 "metadata": {
  "colab": {
   "collapsed_sections": [],
   "name": "Datapane - Stock Market Analysis",
   "provenance": [],
   "toc_visible": true
  },
  "hide_input": false,
  "kernelspec": {
   "display_name": "Python 3",
   "language": "python",
   "name": "python3"
  },
  "language_info": {
   "codemirror_mode": {
    "name": "ipython",
    "version": 3
   },
   "file_extension": ".py",
   "mimetype": "text/x-python",
   "name": "python",
   "nbconvert_exporter": "python",
   "pygments_lexer": "ipython3",
   "version": "3.9.4"
  }
 },
 "nbformat": 4,
 "nbformat_minor": 1
}
