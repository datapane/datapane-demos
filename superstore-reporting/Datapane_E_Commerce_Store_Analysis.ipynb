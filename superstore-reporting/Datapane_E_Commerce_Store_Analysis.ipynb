{
 "cells": [
  {
   "cell_type": "markdown",
   "metadata": {
    "id": "hCFyUZoQmgUX"
   },
   "source": [
    "## Datapane Tutorial - E-Commerce Dashboard\n",
    "\n",
    "---\n",
    "\n",
    "This is part of a series of tutorials to help you learn how to use Datapane, and was built by _Kaan Şimşek_.\n",
    "\n",
    "Before getting started, you will need your API token, which you can find on your [settings page](https://datapane.com/settings). If you are on a private Datapane instance, you will find it in `/settings` on your instance domain (i.e., https://[your-instance].datapane.net/settings).\n",
    "\n",
    "Once you have you token, add it to the form field in the cell below to login to Datapane.\n",
    "\n",
    "If you are using Datapane Community, set the `datapane_server_url` as `https://datapane.com`. Alternatively, if you are using a Teams instance, enter the URL of your instance (i.e. https://[your-instance].datapane.net).\n"
   ]
  },
  {
   "cell_type": "code",
   "execution_count": null,
   "metadata": {
    "cellView": "form",
    "id": "VG2YMu0Hl_Fs"
   },
   "outputs": [],
   "source": [
    "datapane_api_token = \"\" #@param {type:\"string\"}\n",
    "datapane_server_url = \"https://datapane.com\" #@param {type:\"string\"}"
   ]
  },
  {
   "cell_type": "code",
   "execution_count": null,
   "metadata": {
    "id": "W-LLtaYfnZ2z"
   },
   "outputs": [],
   "source": [
    "!pip3 install --quiet datapane \n",
    "\n",
    "import datapane as dp\n",
    "dp.login(token=datapane_api_token, server=datapane_server_url) # Make sure you've set your API token above!"
   ]
  },
  {
   "cell_type": "markdown",
   "metadata": {
    "id": "8En7jTBxBmjz"
   },
   "source": [
    "# Import libraries and pull data"
   ]
  },
  {
   "cell_type": "code",
   "execution_count": null,
   "metadata": {
    "ExecuteTime": {
     "end_time": "2020-10-28T19:01:39.570064Z",
     "start_time": "2020-10-28T19:01:37.782552Z"
    },
    "id": "G6PCuE038cH8"
   },
   "outputs": [],
   "source": [
    "# Import libraries\n",
    "\n",
    "import pandas as pd\n",
    "import numpy as np\n",
    "import plotly.figure_factory as ff\n",
    "import plotly.offline as py\n",
    "import plotly.graph_objs as go\n",
    "import plotly.express as px\n",
    "import datetime\n",
    "import matplotlib.pyplot as plt\n",
    "import plotly.io as pio\n",
    "import fbprophet\n",
    "from plotly import tools\n",
    "from fbprophet.plot import plot_plotly, plot_components_plotly\n"
   ]
  },
  {
   "cell_type": "code",
   "execution_count": null,
   "metadata": {
    "ExecuteTime": {
     "end_time": "2020-10-28T19:01:40.136218Z",
     "start_time": "2020-10-28T19:01:39.571535Z"
    },
    "id": "mcw1-ut5Ksh0",
    "scrolled": true
   },
   "outputs": [],
   "source": [
    "df = pd.read_excel('https://github.com/datapane/gallery/raw/master/superstore-reporting/Sample%20-%20Superstore.xls')\n",
    "df.head()"
   ]
  },
  {
   "cell_type": "code",
   "execution_count": null,
   "metadata": {
    "ExecuteTime": {
     "end_time": "2020-10-28T19:01:40.307473Z",
     "start_time": "2020-10-28T19:01:40.137757Z"
    },
    "id": "EO20dV2YPbJ6"
   },
   "outputs": [],
   "source": [
    "daily_quantity = df.groupby('Order Date')['Sales'].sum().reset_index()\n",
    "\n",
    "trace0 = go.Scatter(x=daily_quantity['Order Date'], y=df['Sales'], name='nflx')\n",
    "fig0 = go.Figure([trace0])\n",
    "fig0.update_layout(\n",
    "    title={\n",
    "        'text': \"Total Sales by Day\",\n",
    "        'x':0.5,\n",
    "        'xanchor': 'center'})\n",
    "fig0.show()"
   ]
  },
  {
   "cell_type": "code",
   "execution_count": null,
   "metadata": {
    "ExecuteTime": {
     "end_time": "2020-10-28T19:01:40.350629Z",
     "start_time": "2020-10-28T19:01:40.308942Z"
    },
    "id": "p-hCtwYtPbP3"
   },
   "outputs": [],
   "source": [
    "df['year'] = df['Order Date'].dt.year\n",
    "df['month'] = df['Order Date'].dt.month\n",
    "df['dow'] = df['Order Date'].dt.dayofweek\n",
    "df['day'] = df['Order Date'].dt.day\n",
    "\n",
    "trace0 = go.Scatter(x=df.groupby('year')['Profit'].sum().index, y=df.groupby('year')['Profit'].sum().values)\n",
    "trace1 = go.Scatter(x=df.groupby('month')['Profit'].sum().index, y=df.groupby('month')['Profit'].sum().values)\n",
    "trace2 = go.Scatter(x=df.groupby('dow')['Profit'].sum().index, y=df.groupby('dow')['Profit'].sum().values)\n",
    "trace3 = go.Scatter(x=df.groupby('day')['Profit'].sum().index, y=df.groupby('day')['Profit'].sum().values)\n",
    "\n",
    "fig1 = tools.make_subplots(rows=4, cols=1, subplot_titles=('Total Profit by Year', 'Total Profit by Month', 'Total Profit by Day of Week', 'Total Profit by Day of Month'))\n",
    "fig1.append_trace(trace0, 1,1)\n",
    "fig1.append_trace(trace1, 2,1)\n",
    "fig1.append_trace(trace2, 3,1)\n",
    "fig1.append_trace(trace3, 4,1)\n",
    "fig1['layout'].update(title='', showlegend=False)   \n",
    "\n",
    "fig1"
   ]
  },
  {
   "cell_type": "code",
   "execution_count": null,
   "metadata": {
    "ExecuteTime": {
     "end_time": "2020-10-28T19:01:40.390224Z",
     "start_time": "2020-10-28T19:01:40.352265Z"
    },
    "id": "eDhYYI_ePbS-"
   },
   "outputs": [],
   "source": [
    "trace1 = go.Bar(\n",
    "    x=df[df.Segment=='Consumer'].groupby('month')['Sales'].sum().index,\n",
    "    y=df[df.Segment=='Consumer'].groupby('month')['Sales'].sum().values,\n",
    "    name = 'Consumer',\n",
    "    \n",
    ")\n",
    "\n",
    "trace2 = go.Bar(\n",
    "    x=df[df.Segment=='Corporate'].groupby('month')['Sales'].sum().index,\n",
    "    y=df[df.Segment=='Corporate'].groupby('month')['Sales'].sum().values,\n",
    "    name='Corporate',\n",
    "  \n",
    ")\n",
    "\n",
    "trace3 = go.Bar(\n",
    "    x=df[df.Segment=='Home Office'].groupby('month')['Sales'].sum().index,\n",
    "    y=df[df.Segment=='Home Office'].groupby('month')['Sales'].sum().values,\n",
    "    name='Home Office',\n",
    "   \n",
    ")\n",
    "\n",
    "layout = go.Layout(\n",
    "    title={\n",
    "        'text': \"Total Sales by Segment\",\n",
    "        'x':0.5,\n",
    "        'xanchor': 'center'}, xaxis = dict(title = 'Month')\n",
    ")\n",
    "data = [trace1,trace2,trace3]\n",
    "fig2 = go.Figure(data=data, layout=layout)\n",
    "fig2.show()"
   ]
  },
  {
   "cell_type": "code",
   "execution_count": null,
   "metadata": {
    "ExecuteTime": {
     "end_time": "2020-10-28T19:01:40.420473Z",
     "start_time": "2020-10-28T19:01:40.391636Z"
    },
    "id": "aO_ErklqbkAG"
   },
   "outputs": [],
   "source": [
    "trace1 = go.Bar(\n",
    "    x=df[df.Segment=='Consumer'].groupby('month')['Profit'].sum().index,\n",
    "    y=df[df.Segment=='Consumer'].groupby('month')['Profit'].sum().values,\n",
    "    name='Consumer',\n",
    "   \n",
    ")\n",
    "\n",
    "trace2 = go.Bar(\n",
    "    x=df[df.Segment=='Corporate'].groupby('month')['Profit'].sum().index,\n",
    "    y=df[df.Segment=='Corporate'].groupby('month')['Profit'].sum().values,\n",
    "    name='Corporate',\n",
    "   \n",
    ")\n",
    "\n",
    "trace3 = go.Bar(\n",
    "    x=df[df.Segment=='Home Office'].groupby('month')['Profit'].sum().index,\n",
    "    y=df[df.Segment=='Home Office'].groupby('month')['Profit'].sum().values,\n",
    "    name='Home-Office',\n",
    "  \n",
    ")\n",
    "\n",
    "data = [trace1, trace2, trace3]\n",
    "layout = go.Layout(\n",
    "    title={\n",
    "        'text': \"Total Profit by Segment\",\n",
    "        'x':0.5,\n",
    "        'xanchor': 'center'}, xaxis = dict(title = 'Month'), barmode='stack'\n",
    ")\n",
    "\n",
    "fig3 = go.Figure(data=data, layout=layout)\n",
    "fig3"
   ]
  },
  {
   "cell_type": "code",
   "execution_count": null,
   "metadata": {
    "ExecuteTime": {
     "end_time": "2020-10-28T19:01:40.458413Z",
     "start_time": "2020-10-28T19:01:40.421902Z"
    },
    "id": "6cN6NnpWfoxM"
   },
   "outputs": [],
   "source": [
    "def gen_scatter(region, col):\n",
    "    return go.Scatter(\n",
    "      x=df[df.Region==region].groupby('month')[col].sum().index,\n",
    "      y=df[df.Region==region].groupby('month')[col].sum().values,\n",
    "      name = region,\n",
    "      mode='markers'\n",
    "    )\n",
    "\n",
    "data = [\n",
    "    gen_scatter('West', 'Sales'), \n",
    "    gen_scatter('East', 'Sales'), \n",
    "    gen_scatter('Central', 'Sales'), \n",
    "    gen_scatter('South', 'Sales')\n",
    "]\n",
    "\n",
    "layout = go.Layout(\n",
    "    title={\n",
    "        'text': \"Total Sales by Region\",\n",
    "        'x':0.5,\n",
    "        'xanchor': 'center'}, xaxis = dict(title = 'Month')\n",
    ")\n",
    "\n",
    "fig4 = go.Figure(data=data, layout=layout)\n",
    "fig4"
   ]
  },
  {
   "cell_type": "code",
   "execution_count": null,
   "metadata": {
    "ExecuteTime": {
     "end_time": "2020-10-28T19:01:40.503821Z",
     "start_time": "2020-10-28T19:01:40.461198Z"
    },
    "id": "SVidsWgWfo51"
   },
   "outputs": [],
   "source": [
    "data = [\n",
    "    gen_scatter('West', 'Profit'), \n",
    "    gen_scatter('East', 'Profit'), \n",
    "    gen_scatter('Central', 'Profit'), \n",
    "    gen_scatter('South', 'Profit')\n",
    "]\n",
    "\n",
    "layout = go.Layout(\n",
    "    title={\n",
    "        'text': \"Total Profit by Region\",\n",
    "        'x':0.5,\n",
    "        'xanchor': 'center'}, xaxis = dict(title = 'Month')\n",
    ")\n",
    "\n",
    "fig5 = go.Figure(data=data, layout=layout)\n",
    "fig5"
   ]
  },
  {
   "cell_type": "code",
   "execution_count": null,
   "metadata": {
    "ExecuteTime": {
     "end_time": "2020-10-28T19:01:40.517944Z",
     "start_time": "2020-10-28T19:01:40.506456Z"
    },
    "id": "lpb0zAgCRLUE"
   },
   "outputs": [],
   "source": [
    "data = go.Pie(labels=df.groupby('Category')['Sales'].sum().index, \n",
    "              values=df.groupby('Category')['Sales'].sum().values,  hole = .2)\n",
    "layout = go.Layout(\n",
    "    title={\n",
    "        'text': \"Total Sales by Category\",\n",
    "        'x':0.5,\n",
    "        'xanchor': 'center'}\n",
    ")\n",
    "fig6 = go.Figure(data=data, layout=layout)\n",
    "\n",
    "fig6"
   ]
  },
  {
   "cell_type": "code",
   "execution_count": null,
   "metadata": {
    "ExecuteTime": {
     "end_time": "2020-10-28T19:01:40.531968Z",
     "start_time": "2020-10-28T19:01:40.519855Z"
    },
    "id": "h1Ar_c-5QyuV"
   },
   "outputs": [],
   "source": [
    "data = go.Pie(labels=df.groupby('Sub-Category')['Profit'].sum().index, \n",
    "              values=df.groupby('Sub-Category')['Profit'].sum().values,  hole = .2)\n",
    "layout = go.Layout(\n",
    "    title={\n",
    "        'text': \"Total Profit by Sub-Category\",\n",
    "        'x':0.5,\n",
    "        'xanchor': 'center'}, legend=dict(orientation=\"h\")\n",
    ")\n",
    "fig7 = go.Figure(data=data, layout=layout)\n",
    "\n",
    "fig7"
   ]
  },
  {
   "cell_type": "code",
   "execution_count": null,
   "metadata": {
    "ExecuteTime": {
     "end_time": "2020-10-28T19:01:40.543401Z",
     "start_time": "2020-10-28T19:01:40.533392Z"
    },
    "id": "yTLnX-dIlOMv"
   },
   "outputs": [],
   "source": [
    "data = go.Bar(\n",
    "    y=df.groupby('Category')['Sales'].sum().index,\n",
    "    x=df.groupby('Category')['Sales'].sum().values,\n",
    "    orientation='h'\n",
    ")\n",
    "\n",
    "layout = go.Layout(\n",
    "    title={\n",
    "        'text': \"Total Sales by Category\",\n",
    "        'x':0.5,\n",
    "        'xanchor': 'center'}, legend=dict(orientation=\"h\")\n",
    ")\n",
    "fig8 = go.Figure(data=data, layout=layout)\n",
    "\n",
    "fig8"
   ]
  },
  {
   "cell_type": "code",
   "execution_count": null,
   "metadata": {
    "ExecuteTime": {
     "end_time": "2020-10-28T19:01:40.554141Z",
     "start_time": "2020-10-28T19:01:40.544871Z"
    },
    "id": "wj2hiPxUd0PY"
   },
   "outputs": [],
   "source": [
    "data = go.Bar(\n",
    "    y=df.groupby('Sub-Category')['Profit'].sum().index,\n",
    "    x=df.groupby('Sub-Category')['Profit'].sum().values,\n",
    "    orientation='h'\n",
    ")\n",
    "\n",
    "layout = go.Layout(\n",
    "    title={\n",
    "        'text': \"Total Profit by Sub-Category\",\n",
    "        'x':0.5,\n",
    "        'xanchor': 'center'}, legend=dict(orientation=\"h\")\n",
    ")\n",
    "fig9 = go.Figure(data=data, layout=layout)\n",
    "fig9"
   ]
  },
  {
   "cell_type": "code",
   "execution_count": null,
   "metadata": {
    "ExecuteTime": {
     "end_time": "2020-10-28T19:01:40.609542Z",
     "start_time": "2020-10-28T19:01:40.580944Z"
    },
    "id": "wEJ1FbIAQSxw"
   },
   "outputs": [],
   "source": [
    "top_cities = df.groupby('City')['Quantity'].sum().sort_values(ascending=False)[:10].index\n",
    "\n",
    "fv = df[df.City.isin(top_cities)].pivot_table(index=\"City\",columns=\"dow\",values=\"Sales\",\n",
    "                     aggfunc=lambda x:x.mean())\n",
    "\n",
    "trace = go.Heatmap(z=fv.values,\n",
    "                   x=['Monday', 'Tuesday', 'Wednesday', 'Thursday', 'Friday','Saturday','Sunday'],\n",
    "                   y=fv.index.values, \n",
    "                  )\n",
    "\n",
    "data=[trace]\n",
    "layout = go.Layout(title={\n",
    "        'text': \"Total Sales by City\",\n",
    "        'x':0.5,\n",
    "        'xanchor': 'center'})\n",
    "\n",
    "fig10 = go.Figure(data=data, layout=layout)\n",
    "fig10"
   ]
  },
  {
   "cell_type": "code",
   "execution_count": null,
   "metadata": {
    "ExecuteTime": {
     "end_time": "2020-10-28T19:01:40.638445Z",
     "start_time": "2020-10-28T19:01:40.610963Z"
    },
    "id": "dXFZJLfAQSxy"
   },
   "outputs": [],
   "source": [
    "top_cities = df.groupby('City')['Quantity'].sum().sort_values(ascending=False)[:10].index\n",
    "\n",
    "fv = df[df.City.isin(top_cities)].pivot_table(index=\"City\",columns=\"dow\",values=\"Profit\",\n",
    "                     aggfunc=lambda x:x.mean())\n",
    "\n",
    "trace = go.Heatmap(z=fv.values,\n",
    "                   x=['Monday', 'Tuesday', 'Wednesday', 'Thursday', 'Friday','Saturday','Sunday'],\n",
    "                   y=fv.index.values, \n",
    "                  )\n",
    "\n",
    "data=[trace]\n",
    "layout = go.Layout(title={\n",
    "        'text': \"Total Profit by City\",\n",
    "        'x':0.5,\n",
    "        'xanchor': 'center'})\n",
    "\n",
    "fig11= go.Figure(data=data, layout=layout)\n",
    "\n",
    "fig11"
   ]
  },
  {
   "cell_type": "code",
   "execution_count": null,
   "metadata": {
    "ExecuteTime": {
     "end_time": "2020-10-28T19:01:41.538849Z",
     "start_time": "2020-10-28T19:01:40.640056Z"
    },
    "id": "53p45YKavkwz"
   },
   "outputs": [],
   "source": [
    "forecasting_data = df.groupby('Order Date')['Profit'].sum().reset_index()\n",
    "forecasting_data = forecasting_data.rename(columns={'Order Date': 'ds', 'Profit': 'y'})\n",
    "m = fbprophet.Prophet()\n",
    "m.fit(forecasting_data)"
   ]
  },
  {
   "cell_type": "code",
   "execution_count": null,
   "metadata": {
    "ExecuteTime": {
     "end_time": "2020-10-28T19:01:43.395683Z",
     "start_time": "2020-10-28T19:01:41.540149Z"
    },
    "id": "It4IrFOkvkwz"
   },
   "outputs": [],
   "source": [
    "future = m.make_future_dataframe(periods=365)\n",
    "forecast = m.predict(future)"
   ]
  },
  {
   "cell_type": "code",
   "execution_count": null,
   "metadata": {
    "ExecuteTime": {
     "end_time": "2020-10-28T19:01:43.617549Z",
     "start_time": "2020-10-28T19:01:43.396993Z"
    },
    "id": "NNMb9RJqvkwz"
   },
   "outputs": [],
   "source": [
    "fig12=plot_plotly(m, forecast, trend=True)\n",
    "fig12.update_layout(autosize=True, width=None)"
   ]
  },
  {
   "cell_type": "code",
   "execution_count": null,
   "metadata": {
    "ExecuteTime": {
     "end_time": "2020-10-28T19:01:43.917795Z",
     "start_time": "2020-10-28T19:01:43.618822Z"
    },
    "id": "VJjWy1lhvkwz"
   },
   "outputs": [],
   "source": [
    "fig13=plot_components_plotly(m, forecast, figsize=(1500,200))\n",
    "fig13.update_layout(autosize=True, width=None)"
   ]
  },
  {
   "cell_type": "markdown",
   "metadata": {
    "id": "r1fIY9rj5sje"
   },
   "source": [
    "# Building a Datapane report\n",
    "\n",
    "Now that we have a series of plots created using Plotly, we can create a report using Datapane. \n",
    "\n",
    "In addition to the visualizations, this report includes Datapane's `HTML` component to display some custom styling.\n",
    "\n",
    "We are also creating a dropdown using Datpane's `Select` block (see [layout components](https://docs.datapane.com/reports/blocks/layout-pages-and-selects)). This allows the user to choose their desired visualization from a list. \n",
    "\n",
    "We have used the `Page` block to add multiple pages to our report, so the user can choose whether to view the forecast or the exploratory data analysis.\n"
   ]
  },
  {
   "cell_type": "code",
   "execution_count": null,
   "metadata": {
    "ExecuteTime": {
     "end_time": "2020-10-28T19:01:47.291425Z",
     "start_time": "2020-10-28T19:01:43.918990Z"
    },
    "id": "UQyVpYFBvkw0"
   },
   "outputs": [],
   "source": [
    "banner_html = \"\"\"<div style=\"padding: 10px;display: flex;align-items: center;font-size: 40px;color: #312E81;background: #EEF2FF;\">\n",
    "<img src=\"https://upload.wikimedia.org/wikipedia/commons/c/c6/Einkaufswagen_%2824140951728%29.jpg\" style=\"margin-right: 1em; max-height: 250px;\">\n",
    "<h1>Superstore Analysis</h1>\n",
    "</div>\n",
    "\"\"\"\n",
    "dp.Report(\n",
    "    dp.Page(\n",
    "        title='Superstore Dashboard',\n",
    "        blocks=[\n",
    "            dp.HTML(banner_html),\n",
    "            dp.Group(\n",
    "              dp.Group(\n",
    "                  \"## Sales Analysis\",\n",
    "                  dp.Select(\n",
    "                      dp.Plot(fig0, label='Sales by Day', caption='This plot shows total sales by day from 2014 to 2017.'), \n",
    "                      dp.Plot(fig4, label='Sales by Region', caption='This plot shows total sales by west, east, central, south regions.'), \n",
    "                      dp.Plot(fig10, label='Sales by City', caption='This plot shows total sales by city.'),\n",
    "                      dp.Plot(fig2, label='Sales by Segment', caption='This plot shows total sales by consumer, corporate, home-office segments.'), \n",
    "                      dp.Plot(fig6, label='Sales by Category', caption='This plot shows total sales by category.'), \n",
    "                      dp.Plot(fig8, label='Sales by Subcategory', caption='This plot shows total sales by subcategory.'),\n",
    "                    )\n",
    "              ),\n",
    "              dp.Group(\n",
    "                  \"## Profit Analysis\",\n",
    "                  dp.Select(\n",
    "                      dp.Plot(fig1, label='Profit by Day', caption='This plot shows total Profit by day from 2014 to 2017.'), \n",
    "                      dp.Plot(fig5, label='Profit by Region', caption='This plot shows total Profit by west, east, central, south regions.'), \n",
    "                      dp.Plot(fig11, label='Profit by City', caption='This plot shows total Profit by city.'),\n",
    "                      dp.Plot(fig3, label='Profit by Segment', caption='This plot shows total Profit by consumer, corporate, home-office segments.'), \n",
    "                      dp.Plot(fig7, label='Profit by Category', caption='This plot shows total Profit by category.'), \n",
    "                      dp.Plot(fig9, label='Profit by Subcategory', caption='This plot shows total Profit by subcategory.'),\n",
    "                    )\n",
    "              ),\n",
    "              columns=2\n",
    "            )\n",
    "        ]\n",
    "    ),\n",
    "    dp.Page(\n",
    "        title='Forecasting',\n",
    "        blocks=[\n",
    "            \"This forecast was created using Facebook's Prophet library\",\n",
    "            dp.Select(\n",
    "              dp.Plot(fig12, label='Forecast', caption='This plot shows daily profit forecasting using fbprophet.'),\n",
    "              dp.Plot(fig13, label='Seasonality', caption='This plot shows trend, yearly seasonality, and weekly seasonality of the time series.'),\n",
    "            )\n",
    "        ]\n",
    "    ),\n",
    "    type=dp.ReportType.DASHBOARD\n",
    "\n",
    ").publish(name='E-Commerce Report', open=True)"
   ]
  },
  {
   "cell_type": "code",
   "execution_count": null,
   "metadata": {
    "id": "_4txaTM7yi1M"
   },
   "outputs": [],
   "source": []
  }
 ],
 "metadata": {
  "colab": {
   "collapsed_sections": [],
   "name": "Datapane - E-Commerce Store Analysis",
   "provenance": []
  },
  "hide_input": false,
  "kernelspec": {
   "display_name": "Python 3",
   "language": "python",
   "name": "python3"
  },
  "language_info": {
   "codemirror_mode": {
    "name": "ipython",
    "version": 3
   },
   "file_extension": ".py",
   "mimetype": "text/x-python",
   "name": "python",
   "nbconvert_exporter": "python",
   "pygments_lexer": "ipython3",
   "version": "3.9.4"
  }
 },
 "nbformat": 4,
 "nbformat_minor": 1
}
